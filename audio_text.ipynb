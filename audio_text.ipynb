{
 "cells": [
  {
   "cell_type": "code",
   "execution_count": null,
   "metadata": {},
   "outputs": [],
   "source": [
    "pip install SpeechRecognition google-cloud-speech\n"
   ]
  },
  {
   "cell_type": "code",
   "execution_count": null,
   "metadata": {},
   "outputs": [],
   "source": [
    "import speech_recognition as sr\n",
    "\n",
    "# Define the audio file path\n",
    "audio_file = \"path_to_audio_file.wav\"\n",
    "\n",
    "# Initialize the recognizer\n",
    "r = sr.Recognizer()\n",
    "\n",
    "# Open the audio file\n",
    "with sr.AudioFile(audio_file) as source:\n",
    "    # Load audio to memory\n",
    "    audio = r.record(source)\n",
    "\n",
    "try:\n",
    "    # Use Google Speech-to-Text API for audio transcription\n",
    "    transcription = r.recognize_google_cloud(audio)\n",
    "\n",
    "    # Print the transcribed text\n",
    "    print(\"Transcription:\", transcription)\n",
    "\n",
    "except sr.UnknownValueError:\n",
    "    print(\"Google Speech Recognition could not understand audio.\")\n",
    "except sr.RequestError as e:\n",
    "    print(\"Could not request Google Speech Recognition service; {0}\".format(e))\n"
   ]
  },
  {
   "cell_type": "markdown",
   "metadata": {},
   "source": []
  },
  {
   "cell_type": "markdown",
   "metadata": {},
   "source": []
  },
  {
   "cell_type": "code",
   "execution_count": null,
   "metadata": {},
   "outputs": [],
   "source": []
  }
 ],
 "metadata": {
  "kernelspec": {
   "display_name": "Python 3",
   "language": "python",
   "name": "python3"
  },
  "language_info": {
   "name": "python",
   "version": "3.9.12"
  }
 },
 "nbformat": 4,
 "nbformat_minor": 2
}
