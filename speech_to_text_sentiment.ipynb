{
 "cells": [
  {
   "cell_type": "code",
   "execution_count": null,
   "metadata": {},
   "outputs": [],
   "source": [
    "import speech_recognition as sr\n",
    "from transformers import pipeline\n",
    "\n",
    "# Initialize speech recognition and sentiment analysis pipelines\n",
    "rec = sr.Recognizer()\n",
    "sentiment_pipeline = pipeline(\"sentiment-analysis\")\n",
    "\n",
    "# Function to convert speech to text\n",
    "def speech_to_text():\n",
    "    with sr.Microphone() as source:\n",
    "        print(\"Listening...\")\n",
    "        audio = rec.listen(source)\n",
    "        text = rec.recognize_google(audio)\n",
    "    return text\n",
    "\n",
    "# Function to detect sentiment\n",
    "def detect_sentiment(text):\n",
    "    sentiment = sentiment_pipeline(text)[0]\n",
    "    label = sentiment['label']\n",
    "    score = sentiment['score']\n",
    "    return label, score\n",
    "\n",
    "# Main program\n",
    "if __name__ == '__main__':\n",
    "    while True:\n",
    "        # Convert speech to text\n",
    "        text = speech_to_text()\n",
    "        print(\"You said:\", text)\n",
    "        \n",
    "        # Detect sentiment\n",
    "        label, score = detect_sentiment(text)\n",
    "        print(\"Sentiment:\", label)\n",
    "        print(\"Confidence Score:\", score)\n"
   ]
  },
  {
   "cell_type": "code",
   "execution_count": null,
   "metadata": {},
   "outputs": [],
   "source": []
  },
  {
   "cell_type": "code",
   "execution_count": null,
   "metadata": {},
   "outputs": [],
   "source": []
  }
 ],
 "metadata": {
  "language_info": {
   "name": "python"
  }
 },
 "nbformat": 4,
 "nbformat_minor": 2
}
